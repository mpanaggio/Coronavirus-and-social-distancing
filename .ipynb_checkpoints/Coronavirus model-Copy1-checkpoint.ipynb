{
 "cells": [
  {
   "cell_type": "code",
   "execution_count": 30,
   "metadata": {},
   "outputs": [],
   "source": [
    "import numpy as np\n",
    "import matplotlib.pyplot as plt\n",
    "np.set_printoptions(suppress=True)"
   ]
  },
  {
   "cell_type": "markdown",
   "metadata": {},
   "source": [
    "# Overview\n",
    "Move the sliders below to change the parameters of the model.  If you are interested in reading about the details of the model, scroll down to the bottom."
   ]
  },
  {
   "cell_type": "code",
   "execution_count": 117,
   "metadata": {},
   "outputs": [],
   "source": [
    "def dydt_coronavirus(y,t,params):\n",
    "    S=y[0]\n",
    "    I=y[1]\n",
    "    R=y[2]\n",
    "    D=y[3]\n",
    "    N=S+I+R\n",
    "    c=params['c']\n",
    "    tau=params['tau']\n",
    "    r=params['r']\n",
    "    delta=params['delta']\n",
    "    dydt=np.array([-c*tau*S*I/N,\n",
    "                   c*tau*S*I/N-r*I-delta*I,\n",
    "                   r*I,\n",
    "                   delta*I])\n",
    "    return dydt\n",
    "def prob_round(y):\n",
    "    fracp,intp=np.modf(y)\n",
    "    y=intp+np.array([np.random.choice([0,1],p=[1-p,p]) for p in fracp])\n",
    "    return y\n",
    "\n",
    "\n",
    "\n",
    "def solve_euler(func,y0,dt,tmax,params={}):\n",
    "    t=np.arange(0,tmax,dt)\n",
    "    yv=y0.reshape(-1)\n",
    "    y=yv.reshape(1,-1)\n",
    "    for tv in t[:-1]:\n",
    "        yv=prob_round(yv+dt*func(yv,tv,params))\n",
    "        if yv[1]<1:\n",
    "            yv[2]+=(1-m)*yv[1]\n",
    "            yv[3]+=(m)*yv[1]\n",
    "            yv[1]=0\n",
    "        if yv[0]<0:\n",
    "            yv[1]-=yv[0]\n",
    "            yv[0]=0\n",
    "        y=np.concatenate([y,yv.reshape(1,-1)])\n",
    "    return t,y"
   ]
  },
  {
   "cell_type": "code",
   "execution_count": 118,
   "metadata": {},
   "outputs": [],
   "source": [
    "from scipy.integrate import odeint\n",
    "N0=300e6 # population size\n",
    "I0=1# number of infected\n",
    "d=10 # duration of infection \n",
    "m=0.03 # mortality rate\n",
    "init_state=np.array([N0-I0,I0,0,0])\n",
    "params={}\n",
    "params['c']=20\n",
    "params['tau']=0.05\n",
    "params['r']=(1-m)/d\n",
    "params['delta']=m/d"
   ]
  },
  {
   "cell_type": "code",
   "execution_count": 119,
   "metadata": {},
   "outputs": [],
   "source": [
    "#t=np.linspace(0,365,24*365)\n",
    "#y=odeint(func=dydt_coronavirus,y0=init_state,args=(params,),t=t)\n",
    "t,y=solve_euler(func=dydt_coronavirus,y0=init_state,dt=1,tmax=365,params=params)"
   ]
  },
  {
   "cell_type": "code",
   "execution_count": 120,
   "metadata": {},
   "outputs": [
    {
     "data": {
      "image/png": "[encoded data removed]",
      "text/plain": [
       "<Figure size 432x288 with 1 Axes>"
      ]
     },
     "metadata": {
      "needs_background": "light"
     },
     "output_type": "display_data"
    },
    {
     "name": "stdout",
     "output_type": "stream",
     "text": [
      "without intervention:\n",
      "Total infected: 299999716, percentage: 100.000%\n",
      "Total deaths: 8999999, percentage: 3.000%\n"
     ]
    }
   ],
   "source": [
    "plt.plot(t,y[:,0]/N0,'b',label='S')\n",
    "plt.plot(t,y[:,1]/N0,'r',label='I')\n",
    "plt.plot(t,y[:,2]/N0,'g',label='R')\n",
    "plt.plot(t,y[:,3]/N0,'k',label='D')\n",
    "plt.xlabel('time (days)')\n",
    "plt.ylabel('fraction')\n",
    "plt.legend()\n",
    "plt.show()\n",
    "print(\"without intervention:\")\n",
    "print(\"Total infected: {:.0f}, percentage: {:.3f}%\".format(N0-y[-1,0],(N0-y[-1,0])/N0*100))\n",
    "print(\"Total deaths: {:.0f}, percentage: {:.3f}%\".format(y[-1,3],(y[-1,3])/N0*100))"
   ]
  },
  {
   "cell_type": "markdown",
   "metadata": {},
   "source": [
    "# SIRD model\n",
    "\n",
    "\n",
    "Suppose that the US population can be divided into 4 categories:\n",
    "* S: Those who are **susceptible** to the coronavirus.\n",
    "* I: Those who are **infected** with the coronavirus.\n",
    "* R: Those who are **recovered** and immune to the coronavirus.\n",
    "* D: Those who have **died** from the corona virus.\n",
    "For simplicity we will let $N$ denote the entire living population.\n",
    "\n",
    "The number of people in each category can change due to the following events:\n",
    "\n",
    "1. Infection:  A susceptible person interacts with an infected person and the result is both people are infected.\n",
    "$$S+I\\rightarrow 2I$$\n",
    "The total number of infections in a given window of time is given by $\\Delta t c\\tau SI/N$ where \n",
    "   * $\\Delta t$ is the window of time in days\n",
    "   * $c$ is the contact rate, i.e. the number of interactions that each person has per day \n",
    "   * $\\tau$ is the probability of transmission during an interaction\n",
    "   * $S$ is the number of susceptible people in the population\n",
    "   * $I/N$ is the probability that an interaction is with an infected person\n",
    "2. Recovery: An infected person can recover from the disease.\n",
    "$$I \\rightarrow R$$\n",
    "The total number of recoveries in a given window of time  is given by $\\Delta t r I$ \n",
    "  * $\\Delta t$ is the window of time in days\n",
    "  * $r$ is the recovery rate (i.e. the probability that person recovers on a given day)\n",
    "  * $I$ is the number of infected people (who could potentially recover).\n",
    "2. Death: An infected person can dies from the disease.\n",
    "$$I\\rightarrow D$$\n",
    "The total number of recoveries in a given window of time is given by $\\Delta t \\delta I$ \n",
    "  * $\\Delta t$ is the window of time in days\n",
    "  * $\\delta$ is the death rate (i.e. the probability that person dies on a given day)\n",
    "  * $I$ is the number of infected people (who could potentially recover).\n",
    "\n",
    "To simplify matters we will define a variable $m$ for the mortality rate so that $\\delta=m/d$ and $r=(1-m)/d$ where $d$ is the average duration of the infection. "
   ]
  },
  {
   "cell_type": "code",
   "execution_count": 123,
   "metadata": {},
   "outputs": [],
   "source": [
    "def time_step(state,params,dt):\n",
    "    state=state.copy()\n",
    "    S=state[1]    \n",
    "    I=state[2]\n",
    "    R=state[3]\n",
    "    D=state[4]\n",
    "    N=S+I+R\n",
    "    c=params['c']\n",
    "    tau=params['tau']\n",
    "    r=params['r']\n",
    "    delta=params['delta']\n",
    "    # infections\n",
    "    infections=np.random.binomial(n=S,p=dt*c*tau*I/N)\n",
    "    recoveries=np.random.binomial(n=I,p=dt*r)\n",
    "    deaths=np.random.binomial(n=I,p=dt*delta)\n",
    "    if I+infections-recoveries-deaths<0:\n",
    "        recoveries=I+infections-deaths\n",
    "    #print(infections,recoveries,deaths)\n",
    "    state[0]+=dt\n",
    "    state[1]-=infections\n",
    "    state[2]=state[2]+infections-recoveries-deaths\n",
    "    state[3]+=recoveries\n",
    "    state[4]+=deaths\n",
    "    return state\n",
    "def plot_state(state,normalized=False,ls=''):\n",
    "    if normalized:\n",
    "        fac=N0\n",
    "    else:\n",
    "        fac=1\n",
    "    plt.plot(state[0,:],state[1,:]/fac,'b'+ls,label='S')\n",
    "    plt.plot(state[0,:],state[2,:]/fac,'r'+ls,label='I')\n",
    "    plt.plot(state[0,:],state[3,:]/fac,'g'+ls,label='R')\n",
    "    plt.plot(state[0,:],state[4,:]/fac,'k'+ls,label='D')\n",
    "    #plt.legend()\n",
    "    plt.xlabel('time (days)')\n",
    "def plot_cumulative_state(state,N0):\n",
    "    plt.plot(state[0,:],np.cumsum(state[1,:]/N0),'b',label='S')\n",
    "    plt.plot(state[0,:],np.cumsum(state[2,:]/N0),'r',label='I')\n",
    "    plt.plot(state[0,:],np.cumsum(state[3,:]/N0),'g',label='R')\n",
    "    plt.plot(state[0,:],np.cumsum(state[4,:]/N0),'k',label='D')\n",
    "    plt.legend()\n",
    "    plt.xlabel('time (days)')\n",
    "    plt.ylabel('fraction')\n",
    "def intervene(state,params,method,intervened):\n",
    "    if method==0:\n",
    "        if (state[4,-1])>1000: # intervene when more than 100 infected\n",
    "            intervened=True\n",
    "            params['c']=params['c']*0.7\n",
    "    return params,intervened"
   ]
  },
  {
   "cell_type": "code",
   "execution_count": 124,
   "metadata": {},
   "outputs": [
    {
     "name": "stdout",
     "output_type": "stream",
     "text": [
      "2.2764227642276427\n"
     ]
    }
   ],
   "source": [
    "N0=300e6\n",
    "I0=100\n",
    "init_state=np.array([0.0,N0-I0,I0,0,0])\n",
    "params={}\n",
    "params['c']=1\n",
    "params['tau']=1.0/3\n",
    "params['r']=1.0/7\n",
    "params['delta']=params['r']/40\n",
    "\n",
    "print(params['c']*params['tau']/(params['r']+params['delta']))\n",
    "init_params=params.copy()"
   ]
  },
  {
   "cell_type": "code",
   "execution_count": 125,
   "metadata": {
    "scrolled": false
   },
   "outputs": [
    {
     "name": "stdout",
     "output_type": "stream",
     "text": [
      "without intervention:\n",
      "Total infected: 261519140, percentage: 87.2\n",
      "Total deaths: 6377967, percentage: 2.13\n",
      "with intervention:\n",
      "Total infected: 195310288, percentage: 65.1\n",
      "Total deaths: 4763941, percentage: 1.59\n",
      "without intervention:\n",
      "Total infected: 261522924, percentage: 87.2\n",
      "Total deaths: 6379873, percentage: 2.13\n",
      "with intervention:\n",
      "Total infected: 195261873, percentage: 65.1\n",
      "Total deaths: 4763963, percentage: 1.59\n",
      "without intervention:\n",
      "Total infected: 261542327, percentage: 87.2\n",
      "Total deaths: 6378627, percentage: 2.13\n",
      "with intervention:\n",
      "Total infected: 195273050, percentage: 65.1\n",
      "Total deaths: 4764419, percentage: 1.59\n",
      "without intervention:\n",
      "Total infected: 261516428, percentage: 87.2\n",
      "Total deaths: 6380656, percentage: 2.13\n",
      "with intervention:\n",
      "Total infected: 195262393, percentage: 65.1\n",
      "Total deaths: 4762116, percentage: 1.59\n",
      "without intervention:\n",
      "Total infected: 261528815, percentage: 87.2\n",
      "Total deaths: 6379383, percentage: 2.13\n",
      "with intervention:\n",
      "Total infected: 195220927, percentage: 65.1\n",
      "Total deaths: 4759176, percentage: 1.59\n"
     ]
    },
    {
     "data": {
      "image/png": "[encoded data removed]",
      "text/plain": [
       "<Figure size 432x288 with 1 Axes>"
      ]
     },
     "metadata": {
      "needs_background": "light"
     },
     "output_type": "display_data"
    }
   ],
   "source": [
    "n_trials=10\n",
    "for trial in range(n_trials):\n",
    "    state=init_state.reshape(-1,1)\n",
    "    new_state=0*state\n",
    "    dt=1\n",
    "    if trial %2==1:\n",
    "        intervened=False\n",
    "    else:\n",
    "        intervened=True\n",
    "    params=init_params.copy()\n",
    "    method=0\n",
    "    while state[0,-1]<500:\n",
    "        new_state=time_step(state[:,-1],params,dt)\n",
    "        state=np.concatenate([state,new_state.reshape(-1,1)],axis=1)\n",
    "        #print(state[:,-1])\n",
    "        #print(state[0,-1],intervened)\n",
    "        if not intervened:\n",
    "            params,intervened=intervene(state,params,method,intervened)\n",
    "            if intervened:\n",
    "                plt.axvline(x=state[0,-1])\n",
    "    if trial%2==1:\n",
    "        plot_state(state,normalized=True,ls='--')\n",
    "        print(\"with intervention:\")\n",
    "        print(\"Total infected: {:.0f}, percentage: {:.3}\".format(N0-state[1,-1],(N0-state[1,-1])/N0*100))\n",
    "        print(\"Total deaths: {:.0f}, percentage: {:.3}\".format(state[4,-1],(state[4,-1])/N0*100))\n",
    "    \n",
    "    else:\n",
    "        plot_state(state,normalized=True)\n",
    "        print(\"without intervention:\")\n",
    "        print(\"Total infected: {:.0f}, percentage: {:.3}\".format(N0-state[1,-1],(N0-state[1,-1])/N0*100))\n",
    "        print(\"Total deaths: {:.0f}, percentage: {:.3}\".format(state[4,-1],(state[4,-1])/N0*100))\n",
    "    \n",
    "   \n",
    "        \n",
    "    "
   ]
  },
  {
   "cell_type": "code",
   "execution_count": 126,
   "metadata": {},
   "outputs": [
    {
     "data": {
      "text/plain": [
       "{'c': 0.7,\n",
       " 'tau': 0.3333333333333333,\n",
       " 'r': 0.14285714285714285,\n",
       " 'delta': 0.0035714285714285713}"
      ]
     },
     "execution_count": 126,
     "metadata": {},
     "output_type": "execute_result"
    }
   ],
   "source": [
    "params"
   ]
  },
  {
   "cell_type": "code",
   "execution_count": 173,
   "metadata": {},
   "outputs": [
    {
     "data": {
      "text/plain": [
       "array([2.92413667e-01, 1.36000000e-05, 6.90278333e-01, 1.72944000e-02])"
      ]
     },
     "execution_count": 173,
     "metadata": {},
     "output_type": "execute_result"
    }
   ],
   "source": [
    "state[1:,-1]/N0"
   ]
  },
  {
   "cell_type": "code",
   "execution_count": null,
   "metadata": {},
   "outputs": [],
   "source": []
  },
  {
   "cell_type": "code",
   "execution_count": 70,
   "metadata": {},
   "outputs": [],
   "source": [
    "def time_step_gillespie(state,params):\n",
    "    state=state.copy()\n",
    "    S=state[1]    \n",
    "    I=state[2]\n",
    "    R=state[3]\n",
    "    D=state[4]\n",
    "    N=S+I+R\n",
    "    c=params['c']\n",
    "    tau=params['tau']\n",
    "    r=params['r']\n",
    "    delta=params['delta']\n",
    "    w=np.zeros(3)\n",
    "    w[0]=c*tau*S*I/N # 'infect'\n",
    "    w[1]=r*I # 'recover'\n",
    "    w[2]=delta*I # 'die'\n",
    "    \n",
    "    a=np.sum(w)\n",
    "    if a>0:\n",
    "        p=w/a\n",
    "\n",
    "        next_state=np.random.choice(range(w.size),p=p)\n",
    "        wait_time=np.random.exponential(scale=1/a)\n",
    "        state[0]+=wait_time # t+=dt\n",
    "        if next_state==0: # infect\n",
    "            state[1]-=1  #S-=1\n",
    "            state[2]+=1  #I+=1\n",
    "        elif next_state==1: # recover\n",
    "            state[2]-=1 # I+=1\n",
    "            state[3]+=1 # R+=1\n",
    "        elif next_state==2:\n",
    "            state[2]-=1 # I+=1\n",
    "            state[4]+=1 # D+=1\n",
    "    else:\n",
    "        pass\n",
    "    return state\n",
    "        \n",
    "        \n",
    "    "
   ]
  },
  {
   "cell_type": "code",
   "execution_count": null,
   "metadata": {},
   "outputs": [],
   "source": []
  },
  {
   "cell_type": "code",
   "execution_count": 64,
   "metadata": {},
   "outputs": [],
   "source": [
    "N0=10000\n",
    "init_state=np.array([0.0,N0-1,1,0,0])\n",
    "params={}\n",
    "params['c']=2\n",
    "params['tau']=0.5\n",
    "params['r']=1.0/14\n",
    "params['delta']=params['r']/40"
   ]
  },
  {
   "cell_type": "code",
   "execution_count": 65,
   "metadata": {},
   "outputs": [],
   "source": [
    "state=init_state.reshape(-1,1)\n",
    "new_state=0*state\n",
    "tmax=10000\n",
    "while state[0,-1]==0 or (np.sum((new_state[:]-state[:,-2])**2)>0 and state[0,-1]<tmax) :\n",
    "    new_state=time_step_gillespie(state[:,-1],params)\n",
    "    state=np.concatenate([state,new_state.reshape(-1,1)],axis=1)"
   ]
  },
  {
   "cell_type": "code",
   "execution_count": 66,
   "metadata": {},
   "outputs": [],
   "source": [
    "def plot_state(state):\n",
    "    plt.plot(state[0,:],state[1,:],'b',label='S')\n",
    "    plt.plot(state[0,:],state[2,:],'r',label='I')\n",
    "    plt.plot(state[0,:],state[3,:],'g',label='R')\n",
    "    plt.plot(state[0,:],state[4,:],'k',label='D')\n",
    "    plt.xlabel('time (days)')"
   ]
  },
  {
   "cell_type": "code",
   "execution_count": 67,
   "metadata": {},
   "outputs": [
    {
     "data": {
      "image/png": "[encoded data removed]",
      "text/plain": [
       "<Figure size 432x288 with 1 Axes>"
      ]
     },
     "metadata": {
      "needs_background": "light"
     },
     "output_type": "display_data"
    }
   ],
   "source": [
    "plot_state(state)"
   ]
  },
  {
   "cell_type": "code",
   "execution_count": 68,
   "metadata": {},
   "outputs": [
    {
     "data": {
      "text/plain": [
       "array([[0.00000000e+00, 4.14692015e-01, 1.14136102e+00, ...,\n",
       "        1.59244456e+02, 1.73167710e+02, 1.73167710e+02],\n",
       "       [9.99900000e+03, 9.99800000e+03, 9.99700000e+03, ...,\n",
       "        0.00000000e+00, 0.00000000e+00, 0.00000000e+00],\n",
       "       [1.00000000e+00, 2.00000000e+00, 3.00000000e+00, ...,\n",
       "        1.00000000e+00, 0.00000000e+00, 0.00000000e+00],\n",
       "       [0.00000000e+00, 0.00000000e+00, 0.00000000e+00, ...,\n",
       "        9.74200000e+03, 9.74300000e+03, 9.74300000e+03],\n",
       "       [0.00000000e+00, 0.00000000e+00, 0.00000000e+00, ...,\n",
       "        2.57000000e+02, 2.57000000e+02, 2.57000000e+02]])"
      ]
     },
     "execution_count": 68,
     "metadata": {},
     "output_type": "execute_result"
    }
   ],
   "source": [
    "state"
   ]
  },
  {
   "cell_type": "code",
   "execution_count": 42,
   "metadata": {},
   "outputs": [
    {
     "data": {
      "text/plain": [
       "2.8216495859106128"
      ]
     },
     "execution_count": 42,
     "metadata": {},
     "output_type": "execute_result"
    }
   ],
   "source": [
    "state[0,-1]"
   ]
  },
  {
   "cell_type": "code",
   "execution_count": 43,
   "metadata": {},
   "outputs": [
    {
     "data": {
      "text/plain": [
       "False"
      ]
     },
     "execution_count": 43,
     "metadata": {},
     "output_type": "execute_result"
    }
   ],
   "source": [
    "np.sum((new_state[:]-state[:,-1])**2)>0"
   ]
  },
  {
   "cell_type": "code",
   "execution_count": 44,
   "metadata": {},
   "outputs": [
    {
     "data": {
      "text/plain": [
       "array([0., 0., 0., 0., 0.])"
      ]
     },
     "execution_count": 44,
     "metadata": {},
     "output_type": "execute_result"
    }
   ],
   "source": [
    "(new_state[:]-state[:,-1])**2"
   ]
  },
  {
   "cell_type": "code",
   "execution_count": null,
   "metadata": {},
   "outputs": [],
   "source": []
  }
 ],
 "metadata": {
  "kernelspec": {
   "display_name": "Python 3",
   "language": "python",
   "name": "python3"
  },
  "language_info": {
   "codemirror_mode": {
    "name": "ipython",
    "version": 3
   },
   "file_extension": ".py",
   "mimetype": "text/x-python",
   "name": "python",
   "nbconvert_exporter": "python",
   "pygments_lexer": "ipython3",
   "version": "3.7.3"
  }
 },
 "nbformat": 4,
 "nbformat_minor": 2
}
